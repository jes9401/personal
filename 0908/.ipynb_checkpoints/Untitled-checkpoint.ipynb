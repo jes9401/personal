{
 "cells": [
  {
   "cell_type": "code",
   "execution_count": 2,
   "id": "969967dc",
   "metadata": {},
   "outputs": [
    {
     "name": "stdout",
     "output_type": "stream",
     "text": [
      "Requirement already satisfied: pyvips in c:\\users\\neurophet\\miniconda3\\envs\\myvenv\\lib\\site-packages (2.1.15)\n",
      "Requirement already satisfied: cffi>=1.0.0 in c:\\users\\neurophet\\miniconda3\\envs\\myvenv\\lib\\site-packages (from pyvips) (1.14.6)\n",
      "Requirement already satisfied: pycparser in c:\\users\\neurophet\\miniconda3\\envs\\myvenv\\lib\\site-packages (from cffi>=1.0.0->pyvips) (2.20)\n"
     ]
    }
   ],
   "source": [
    "!pip install pyvips"
   ]
  },
  {
   "cell_type": "code",
   "execution_count": 13,
   "id": "78d4f5ef",
   "metadata": {},
   "outputs": [],
   "source": [
    "import nibabel as nib\n",
    "import numpy as np\n",
    "from PIL import Image\n",
    "\n",
    "proxy = nib.load('./nifti/series_305_t1_orig_20210628.nii.gz')\n",
    "\n",
    "data = proxy.get_fdata()"
   ]
  },
  {
   "cell_type": "code",
   "execution_count": 32,
   "id": "20eef354",
   "metadata": {},
   "outputs": [
    {
     "name": "stdout",
     "output_type": "stream",
     "text": [
      "(160, 230, 256)\n",
      "[1. 1. 1. 1. 0. 0. 0. 0.]\n"
     ]
    }
   ],
   "source": [
    "print(proxy.shape)\n",
    "print(proxy.header['pixdim']) # grid spacing, 차원당 단위"
   ]
  },
  {
   "cell_type": "code",
   "execution_count": 16,
   "id": "d21e1a57",
   "metadata": {},
   "outputs": [
    {
     "data": {
      "text/plain": [
       "[160, 230, 256]"
      ]
     },
     "execution_count": 16,
     "metadata": {},
     "output_type": "execute_result"
    }
   ],
   "source": [
    "list(proxy.header['dim'])[1:4]"
   ]
  },
  {
   "cell_type": "code",
   "execution_count": 24,
   "id": "c57af0ab",
   "metadata": {},
   "outputs": [
    {
     "name": "stdout",
     "output_type": "stream",
     "text": [
      "<class 'nibabel.nifti1.Nifti1Header'> object, endian='<'\n",
      "sizeof_hdr      : 348\n",
      "data_type       : b''\n",
      "db_name         : b''\n",
      "extents         : 0\n",
      "session_error   : 0\n",
      "regular         : b'r'\n",
      "dim_info        : 0\n",
      "dim             : [  3 160 230 256   1   1   1   1]\n",
      "intent_p1       : 0.0\n",
      "intent_p2       : 0.0\n",
      "intent_p3       : 0.0\n",
      "intent_code     : none\n",
      "datatype        : float64\n",
      "bitpix          : 64\n",
      "slice_start     : 0\n",
      "pixdim          : [1. 1. 1. 1. 0. 0. 0. 0.]\n",
      "vox_offset      : 0.0\n",
      "scl_slope       : nan\n",
      "scl_inter       : nan\n",
      "slice_end       : 0\n",
      "slice_code      : unknown\n",
      "xyzt_units      : 2\n",
      "cal_max         : 0.0\n",
      "cal_min         : 0.0\n",
      "slice_duration  : 0.0\n",
      "toffset         : 0.0\n",
      "glmax           : 0\n",
      "glmin           : 0\n",
      "descrip         : b''\n",
      "aux_file        : b''\n",
      "qform_code      : scanner\n",
      "sform_code      : unknown\n",
      "quatern_b       : 7.265138e-08\n",
      "quatern_c       : 0.0040080524\n",
      "quatern_d       : -0.022596946\n",
      "qoffset_x       : -85.985405\n",
      "qoffset_y       : -101.38316\n",
      "qoffset_z       : -126.13704\n",
      "srow_x          : [0. 0. 0. 0.]\n",
      "srow_y          : [0. 0. 0. 0.]\n",
      "srow_z          : [0. 0. 0. 0.]\n",
      "intent_name     : b''\n",
      "magic           : b'n+1'\n"
     ]
    }
   ],
   "source": [
    "header = proxy.header\n",
    "print(header)"
   ]
  },
  {
   "cell_type": "code",
   "execution_count": 22,
   "id": "a7c1d55a",
   "metadata": {},
   "outputs": [
    {
     "data": {
      "text/plain": [
       "1.0"
      ]
     },
     "execution_count": 22,
     "metadata": {},
     "output_type": "execute_result"
    }
   ],
   "source": [
    "volume = sx*sy*sz\n",
    "volume"
   ]
  },
  {
   "cell_type": "code",
   "execution_count": 115,
   "id": "d52fb849",
   "metadata": {},
   "outputs": [],
   "source": [
    "temp = proxy.dataobj[100,:,:]"
   ]
  },
  {
   "cell_type": "code",
   "execution_count": 116,
   "id": "14a94134",
   "metadata": {},
   "outputs": [],
   "source": [
    "image = Image.fromarray(temp)\n",
    "image.show()"
   ]
  },
  {
   "cell_type": "code",
   "execution_count": null,
   "id": "b37ce226",
   "metadata": {},
   "outputs": [],
   "source": []
  }
 ],
 "metadata": {
  "kernelspec": {
   "display_name": "Python 3 (ipykernel)",
   "language": "python",
   "name": "python3"
  },
  "language_info": {
   "codemirror_mode": {
    "name": "ipython",
    "version": 3
   },
   "file_extension": ".py",
   "mimetype": "text/x-python",
   "name": "python",
   "nbconvert_exporter": "python",
   "pygments_lexer": "ipython3",
   "version": "3.7.11"
  }
 },
 "nbformat": 4,
 "nbformat_minor": 5
}
